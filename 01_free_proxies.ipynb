{
 "cells": [
  {
   "cell_type": "code",
   "execution_count": null,
   "metadata": {},
   "outputs": [],
   "source": [
    "# default_exp free_proxies"
   ]
  },
  {
   "cell_type": "code",
   "execution_count": null,
   "metadata": {},
   "outputs": [],
   "source": [
    "#export\n",
    "import requests\n",
    "from bs4 import BeautifulSoup"
   ]
  },
  {
   "cell_type": "code",
   "execution_count": null,
   "metadata": {},
   "outputs": [],
   "source": [
    "#export\n",
    "def get_free(num=None):\n",
    "    r = requests.get('https://free-proxy-list.net/')\n",
    "    soup = BeautifulSoup(r.text, 'lxml')\n",
    "    table = soup.find('table', {'id':'proxylisttable'})\n",
    "    rows = table.find_all('tr')\n",
    "    \n",
    "    proxies = []\n",
    "    \n",
    "    for index, row in enumerate(rows):\n",
    "        if index == 0: continue\n",
    "        data = row.find_all('td')\n",
    "        if len(data) == 0: continue\n",
    "        data_dict = {'ip':data[0].get_text(), 'port':data[1].get_text(), \n",
    "                     'country': data[2].get_text(), 'anonymity':data[3].get_text(), \n",
    "                     'https':data[4].get_text()}\n",
    "        proxies.append(data_dict)\n",
    "        if num == len(proxies): return proxies\n",
    "        \n",
    "    return proxies\n"
   ]
  },
  {
   "cell_type": "code",
   "execution_count": null,
   "metadata": {},
   "outputs": [],
   "source": [
    "from nbdev.imports import *\n",
    "test_eq(len(get_free(10)), 10)"
   ]
  },
  {
   "cell_type": "code",
   "execution_count": null,
   "metadata": {},
   "outputs": [],
   "source": []
  },
  {
   "cell_type": "code",
   "execution_count": null,
   "metadata": {},
   "outputs": [],
   "source": []
  }
 ],
 "metadata": {
  "kernelspec": {
   "display_name": "Python 3",
   "language": "python",
   "name": "python3"
  }
 },
 "nbformat": 4,
 "nbformat_minor": 4
}

{
 "cells": [
  {
   "cell_type": "markdown",
   "metadata": {},
   "source": [
    "# Proxy Manager"
   ]
  },
  {
   "cell_type": "markdown",
   "metadata": {},
   "source": [
    "The package is intended to manage a set of proxies, rotating through at random, to prevent blocking. Proxies are dropped from the rotation if they fail multiple times in a row.\n",
    "\n",
    "VERY EARLY STAGE\n"
   ]
  },
  {
   "cell_type": "markdown",
   "metadata": {},
   "source": [
    "### Installation\n",
    "`pip install ProxyManager`"
   ]
  },
  {
   "cell_type": "markdown",
   "metadata": {},
   "source": [
    "### Basic usage"
   ]
  },
  {
   "cell_type": "markdown",
   "metadata": {},
   "source": [
    "\n",
    "```python\n",
    "PROXY_LIST = [\n",
    "         '70.45.80.236:4602',\n",
    "         '70.45.80.236:4603',\n",
    "         '70.45.80.236:4604'\n",
    "        ]\n",
    "\n",
    "URL = 'http://www.myurl.com'\n",
    "\n",
    "from ProxyManager.core import ProxyManager, Proxy\n",
    "\n",
    "proxies = [Proxy(i) for i in PROXY_LIST]\n",
    "response = proxies.make_request(URL)\n",
    "```\n"
   ]
  },
  {
   "cell_type": "markdown",
   "metadata": {},
   "source": [
    "### Free Proxies"
   ]
  },
  {
   "cell_type": "markdown",
   "metadata": {},
   "source": [
    "If you don't bring your own proxies, which is HIGHLY recommended, I have written a function that scrapes https://free-proxy-list.net/ to obtain a set of proxies."
   ]
  },
  {
   "cell_type": "markdown",
   "metadata": {},
   "source": [
    "```python\n",
    "from ProxyManager.free_proxies import get_free\n",
    "FREE_PROXIES = get_free(10)\n",
    "proxies = [Proxy('{}:{}'.format(i['ip'], i['port'])) for i in FREE_PROXIES]\n",
    "\n",
    "```"
   ]
  },
  {
   "cell_type": "code",
   "execution_count": null,
   "metadata": {},
   "outputs": [],
   "source": []
  }
 ],
 "metadata": {
  "kernelspec": {
   "display_name": "Python 3",
   "language": "python",
   "name": "python3"
  }
 },
 "nbformat": 4,
 "nbformat_minor": 4
}

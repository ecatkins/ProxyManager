{
 "cells": [
  {
   "cell_type": "markdown",
   "metadata": {},
   "source": [
    "# Proxy Manager - Python"
   ]
  },
  {
   "cell_type": "markdown",
   "metadata": {},
   "source": [
    "The package is intended to manage a set of proxies, rotating through at random, to prevent blocking. Proxies are currently dropped from the rotation if they fail twice in a row.\n",
    "\n",
    "VERY EARLY STAGE\n"
   ]
  },
  {
   "cell_type": "markdown",
   "metadata": {},
   "source": [
    "### Installation\n",
    "`pip install ProxyManager`"
   ]
  },
  {
   "cell_type": "markdown",
   "metadata": {},
   "source": [
    "### Basic usage"
   ]
  },
  {
   "cell_type": "markdown",
   "metadata": {},
   "source": [
    "\n",
    "```python\n",
    "PROXY_LIST = [\n",
    "         '70.45.80.236:4602',\n",
    "         '70.45.80.236:4603',\n",
    "         '70.45.80.236:4604'\n",
    "        ]\n",
    "\n",
    "URL = 'http://www.myurl.com'\n",
    "\n",
    "from ProxyManager.core import ProxyManager, Proxy\n",
    "\n",
    "proxies = [i for i in PROXY_LIST] # OR [Proxy(i) for i in PROXY_LIST]\n",
    "PM = ProxyManager(proxies)\n",
    "result = PM.make_request(URL)\n",
    "\n",
    "# Pass a fail function into make_request method, to check for domain/website specific indicators that the request has failed\n",
    "# i.e. tell the ProxyManager, that this request has failed\n",
    "def fail_function(response):\n",
    "    if '<something_wrong_about>' in response:\n",
    "        return True\n",
    "    return False\n",
    "\n",
    "result = PM.make_request(URL, fail_func=fail_function) # or PM.fail_func = fail_function\n",
    "\n",
    "```\n"
   ]
  },
  {
   "cell_type": "markdown",
   "metadata": {},
   "source": [
    "### Free Proxies"
   ]
  },
  {
   "cell_type": "markdown",
   "metadata": {},
   "source": [
    "If you don't bring your own proxies, which is HIGHLY recommended, I have written a function that scrapes https://free-proxy-list.net/ to obtain a set of proxies."
   ]
  },
  {
   "cell_type": "markdown",
   "metadata": {},
   "source": [
    "```python\n",
    "from ProxyManager.free_proxies import get_free\n",
    "FREE_PROXIES = get_free(10)\n",
    "proxies = [Proxy('{}:{}'.format(i['ip'], i['port'])) for i in FREE_PROXIES]\n",
    "\n",
    "```"
   ]
  },
  {
   "cell_type": "code",
   "execution_count": null,
   "metadata": {},
   "outputs": [],
   "source": []
  }
 ],
 "metadata": {
  "kernelspec": {
   "display_name": "Python 3",
   "language": "python",
   "name": "python3"
  }
 },
 "nbformat": 4,
 "nbformat_minor": 4
}
